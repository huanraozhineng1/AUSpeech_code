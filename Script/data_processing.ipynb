{
 "cells": [
  {
   "cell_type": "code",
   "id": "initial_id",
   "metadata": {
    "collapsed": true,
    "jupyter": {
     "is_executing": true
    }
   },
   "source": [
    "import librosa\n",
    "import librosa.display\n",
    "import matplotlib.pyplot as plt\n",
    "import numpy as np\n",
    "\n",
    "audio_path = '../Example/speaker00042_F_s1_stn00021.wav'\n",
    "audio_data, sample_rate = librosa.load(audio_path)\n",
    "print(\"Sampling rate:\", sample_rate)\n",
    "\n",
    "plt.figure(figsize=(12, 4))\n",
    "librosa.display.waveshow(audio_data, sr=sample_rate)\n",
    "plt.title('Waveform')\n",
    "plt.xlabel('Time (s)')\n",
    "plt.ylabel('Amplitude')\n",
    "plt.show()\n",
    "\n",
    "D = librosa.stft(audio_data)\n",
    "S = librosa.amplitude_to_db(abs(D), ref=np.max)\n",
    "plt.figure(figsize=(12, 4))\n",
    "librosa.display.specshow(S, sr=sample_rate, x_axis='time', y_axis='log')\n",
    "plt.title('Spectrogram')\n",
    "plt.colorbar(format='%+2.0f dB')\n",
    "plt.show()"
   ],
   "outputs": [],
   "execution_count": null
  },
  {
   "metadata": {},
   "cell_type": "code",
   "outputs": [],
   "execution_count": null,
   "source": [
    "def read_lab_file(lab_file_path):\n",
    "    with open(lab_file_path, 'r') as f:\n",
    "        lines = f.readlines()\n",
    "        for line in lines:\n",
    "            print(line.strip())\n",
    "\n",
    "lab_file_path = '../Example/speaker00042_F_s1_stn00021.lab'\n",
    "read_lab_file(lab_file_path)"
   ],
   "id": "fccb8643d76c52e7"
  },
  {
   "metadata": {},
   "cell_type": "code",
   "outputs": [],
   "execution_count": null,
   "source": [
    "import textgrid\n",
    "\n",
    "def visualize_textgrid(textgrid_path):\n",
    "    tg = textgrid.TextGrid.fromFile(textgrid_path)\n",
    "    for tier in tg:\n",
    "        print(f\"Tier name: {tier.name}\")\n",
    "        print(f\"Start time: {tier.minTime}\")\n",
    "        print(f\"End time: {tier.maxTime}\")\n",
    "        for interval in tier:\n",
    "            print(f\"  - Interval start time: {interval.minTime}\")\n",
    "            print(f\"  - Interval end time: {interval.maxTime}\")\n",
    "            print(f\"  - Mark content: {interval.mark}\")\n",
    "        print(\"-\" * 30)\n",
    "\n",
    "textgrid_path = '../Example/speaker00042_F_s1_stn00021.textgrid'\n",
    "visualize_textgrid(textgrid_path)"
   ],
   "id": "3ba25247a7c08415"
  },
  {
   "metadata": {},
   "cell_type": "code",
   "outputs": [],
   "execution_count": null,
   "source": [
    "import pydicom\n",
    "import matplotlib.pyplot as plt\n",
    "\n",
    "def read_and_visualize_dcm(dcm_file_path):\n",
    "    dcm_data = pydicom.dcmread(dcm_file_path)\n",
    "\n",
    "    fig, axes = plt.subplots(1, 5, figsize=(20, 4))\n",
    "    for i in range(5):\n",
    "        axes[i].imshow(dcm_data.pixel_array[i * 15], cmap='gray')\n",
    "        axes[i].axis('off')\n",
    "    plt.show()\n",
    "    print(\"DCM shape:\", dcm_data.pixel_array[0].shape)\n",
    "\n",
    "dcm_file_path = '../Example/speaker00042_F_s1_stn00021.dcm'\n",
    "read_and_visualize_dcm(dcm_file_path)"
   ],
   "id": "7bb3442aabf4485b"
  }
 ],
 "metadata": {
  "kernelspec": {
   "display_name": "Python 3",
   "language": "python",
   "name": "python3"
  },
  "language_info": {
   "codemirror_mode": {
    "name": "ipython",
    "version": 2
   },
   "file_extension": ".py",
   "mimetype": "text/x-python",
   "name": "python",
   "nbconvert_exporter": "python",
   "pygments_lexer": "ipython2",
   "version": "2.7.6"
  }
 },
 "nbformat": 4,
 "nbformat_minor": 5
}
